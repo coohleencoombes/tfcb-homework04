{
 "cells": [
  {
   "cell_type": "markdown",
   "metadata": {},
   "source": [
    "# Homework 4: Practical analysis with BioPython"
   ]
  },
  {
   "cell_type": "code",
   "execution_count": 2,
   "metadata": {},
   "outputs": [],
   "source": [
    "import re\n",
    "\n",
    "import Bio.SeqIO"
   ]
  },
  {
   "cell_type": "markdown",
   "metadata": {},
   "source": [
    "## A real biological analysis: parsing barcodes\n",
    "The reads that we just read as `seqreads_str` come from a real sequencing run of influenza virus HA and NA genes.\n",
    "\n",
    "The sequences are as follows:\n",
    "\n",
    "    5'-[end of HA]-AGGCGGCCGC-[16 X N]-3'\n",
    "    \n",
    "or \n",
    "\n",
    "    5'-[end of NA]-AGGCGGCCGC-[16 X N]-3'\n",
    "    \n",
    "The end of NA is:\n",
    "\n",
    "    ...CACGATAGATAAATAATAGTGCACCAT\n",
    "    \n",
    "The end of HA is:\n",
    "\n",
    "    ...CCGGATTTGCATATAATGATGCACCAT\n",
    "    \n",
    "The sequencing run reads from the reverse end of the molecules, so the first thing in the sequencing reads is the barcode followed by the constant sequence and the end of HA or NA."
   ]
  },
  {
   "cell_type": "code",
   "execution_count": 31,
   "metadata": {},
   "outputs": [
    {
     "name": "stdout",
     "output_type": "stream",
     "text": [
      "27\n",
      "27\n"
     ]
    }
   ],
   "source": [
    "print(len('CACGATAGATAAATAATAGTGCACCAT'))\n",
    "print(len('CCGGATTTGCATATAATGATGCACCAT'))"
   ]
  },
  {
   "cell_type": "markdown",
   "metadata": {},
   "source": [
    "For the homework, you are going to extend the code from real biological analysis of our FASTQ files in lectures 8 and 9.\n",
    "\n",
    "As described in the Jupyter notebook for that lecture, the FASTQ reads can originate from **either** HA or NA, and that will be distinguished by the most 3' end of the read.\n",
    "But in our example, we did not distinguish among reads matching to HA and NA, as we didn't even look far enough into the read to tell the identity.\n",
    "\n",
    "For the homework, your goal is to write code that extends the material from lectures 8 and 9 to also distinguish between HA and NA.\n",
    "\n",
    "Please include code to address each of the following questions. Please include code comments to explain what your code is attempting to accomplish. Don't forget to include references to the sources you used to obtain your answer, including your classmates (if you are working in groups).  "
   ]
  },
  {
   "cell_type": "code",
   "execution_count": 3,
   "metadata": {},
   "outputs": [],
   "source": [
    "seqreads = list(Bio.SeqIO.parse('barcodes_R1.fastq', format='fastq'))\n",
    "\n",
    "seqreads_str = [str(s.seq) for s in seqreads]"
   ]
  },
  {
   "cell_type": "code",
   "execution_count": null,
   "metadata": {},
   "outputs": [],
   "source": [
    "import pandas\n",
    "\n",
    "barcode_counts_df = pandas.Series(barcode_counts).reset_index()\n",
    "\n",
    "barcode_counts_df.columns = ['barcode', 'count']\n",
    "\n",
    "barcode_counts_df"
   ]
  },
  {
   "cell_type": "code",
   "execution_count": 42,
   "metadata": {},
   "outputs": [
    {
     "name": "stdout",
     "output_type": "stream",
     "text": [
      "5299 3958 743\n"
     ]
    }
   ],
   "source": [
    "\n",
    "import re\n",
    "\n",
    "import Bio.SeqIO\n",
    "\n",
    "\n",
    "def reverse_complement(seq):\n",
    "    \"\"\"Get reverse complement of a DNA sequence.\n",
    "    \n",
    "    Parameters\n",
    "    -----------\n",
    "    seq : str\n",
    "        Uppercase DNA sequence.\n",
    "        \n",
    "    Returns\n",
    "    -------\n",
    "    str\n",
    "        Reverse complement of the sequence in upper case.\n",
    "        \n",
    "    Example\n",
    "    --------\n",
    "    >>> reverse_complement('ATGCAC')\n",
    "    'GTGCAT'\n",
    "    \n",
    "    \"\"\"\n",
    "    rc_dict = {'A': 'T', 'T': 'A', 'G': 'C', 'C': 'G', 'N': 'N'}\n",
    "    revcomplement = []\n",
    "    for nt in reversed(seq.upper()):\n",
    "        revcomplement.append(rc_dict[nt])\n",
    "    return ''.join(revcomplement)\n",
    "\n",
    "x = reverse_complement(seqreads_str[0]) #try to do a for loop to get the first 8 strings (try later)\n",
    "#print (x)\n",
    "\n",
    "def read_barcode(seqread, bclen, upstream='AGGCGGCCGC', HA='CCGGATTTGCATATAATGATGCACCAT'):\n",
    "    \"\"\"Identify barcode with known upstream sequence.\n",
    "    \n",
    "    Parameters\n",
    "    ----------\n",
    "    seqread : str\n",
    "        Nucleotide sequence matching UPSTREAM-BARCODE read in reverse orientation.\n",
    "    bclen : int\n",
    "        Length of barcode\n",
    "    upstream: str\n",
    "        Sequence upstream of the barcode.\n",
    "        \n",
    "    Returns\n",
    "    -------\n",
    "    str or None\n",
    "        Sequence of the barcode in the forward orientation, or `None` if no match to expected barcoded sequence.\n",
    "        \n",
    "    Example\n",
    "    -------\n",
    "    >>> read_barcode('TTTTTTTTTTTTTTTTGCGGCCGCCT', bclen=16)\n",
    "    'AAAAAAAAAAAAAAAA'\n",
    "        \n",
    "    \"\"\"\n",
    "    barcode_matcher = re.compile(f'^(?P<barcode>[ACGT]{{{bclen}}})' + reverse_complement(upstream) + reserve_complement(HA))\n",
    "    m = barcode_matcher.search(seqread)\n",
    "    if not m:\n",
    "        return None\n",
    "    else:\n",
    "        return reverse_complement(seqread[: bclen])\n",
    "\n",
    "#trying to create a definition to read through seqreads_str and add to invalid_dict\n",
    "def invalid_barcode(seqread, bclen = 16, upstream = 'AGGCGGCCGC'):\n",
    "    \"\"\"Identify barcode with known upstream sequence.\n",
    "    \n",
    "    Parameters\n",
    "    ----------\n",
    "    seqread : str\n",
    "        Nucleotide sequence matching UPSTREAM-BARCODE read in reverse orientation.\n",
    "    bclen : int\n",
    "        Length of barcode\n",
    "    upstream: str\n",
    "        Sequence upstream of the barcode.\n",
    "        \n",
    "    Returns\n",
    "    -------\n",
    "    str or None\n",
    "        Sequence of the barcode in the forward orientation, or `None` if no match to expected barcoded sequence.\n",
    "        \n",
    "    \"\"\"\n",
    "    invalid_dict ={}\n",
    "    invalid_matcher = re.compile(f'^(?P<barcode>[ACGT]{{{bclen}}})' + reverse_complement ((?!^ABC$(upstream)))\n",
    "    invalid_search = invalid_matcher.search(seqread)\n",
    "    \n",
    "    if invalid_search:\n",
    "        invalid_dict += 1\n",
    "    else:\n",
    "        return None\n",
    "\n",
    "\n",
    "    \n",
    "    \n",
    "# now read sequences and apply function\n",
    "seqreads = list(Bio.SeqIO.parse('barcodes_R1.fastq', 'fastq'))\n",
    "seqreads_str = [str(seqrecord.seq) for seqrecord in seqreads]\n",
    "\n",
    "# Get the counts of all barcodes\n",
    "#barcode_counts = {}\n",
    "HA = {}\n",
    "NA = {}\n",
    "\n",
    "\n",
    "\n",
    "HA_count = 0\n",
    "NA_count = 0\n",
    "n_invalid = 0\n",
    "\n",
    "for seq in seqreads_str:\n",
    "    #seq = reverse_complement(seq)\n",
    "    if reverse_complement(seq[26:53]) == 'CCGGATTTGCATATAATGATGCACCAT':\n",
    "        HA_count += 1\n",
    "    elif reverse_complement(seq[26:53]) == 'CACGATAGATAAATAATAGTGCACCAT':\n",
    "        NA_count += 1\n",
    "    else:\n",
    "        n_invalid += 1\n",
    "   \n",
    "print(HA_count, NA_count, n_invalid)\n",
    "#print(seqreads_str[0])\n",
    "#print(reverse_complement(seqreads_str[0]))\n",
    "#print(seqreads_str[0].find('GCGGCCGCCT')+1+len('GCGGCCGCCT'))\n",
    "#print(seqreads_str[0][27:27+len('CACGATAGATAAATAATAGTGCACCAT')])\n",
    "#print(reverse_complement(seqreads_str[0][26:26+len('CACGATAGATAAATAATAGTGCACCAT')]))\n",
    "#print(seqreads_str[0].find('GCGGCCGCCT')+len('GCGGCCGCCT'))\n",
    "\n",
    "#print(f\"Parsed {len(seqreads_str)} sequences, of which {n_invalid} lacked valid barcodes\")\n",
    "#print (barcode_counts)\n",
    "#print(seqreads_str[43])\n",
    "#print(seqreads_str[43].find('GCGGCCGCCT'))\n",
    "#print(read_barcode(seqreads_str[43], bclen=16))\n",
    "\n",
    "n_invalid_dict = {}\n",
    "n_invalid = 0\n",
    "\n",
    "for seq in seqreads_str:\n",
    "    invalid = invalid_barcode(seq, bclen=16)\n",
    "    if invalid:\n",
    "        n_invalid_dict[invalid] += 1\n",
    "\n"
   ]
  },
  {
   "cell_type": "markdown",
   "metadata": {},
   "source": [
    "1. How many reads map to HA, and how many reads map to NA?"
   ]
  },
  {
   "cell_type": "code",
   "execution_count": null,
   "metadata": {},
   "outputs": [],
   "source": []
  },
  {
   "cell_type": "markdown",
   "metadata": {},
   "source": [
    "2. What is the HA barcode with the most counts (and how many counts)? Also answer the same question for NA."
   ]
  },
  {
   "cell_type": "code",
   "execution_count": 44,
   "metadata": {},
   "outputs": [
    {
     "ename": "TypeError",
     "evalue": "argument of type 'int' is not iterable",
     "output_type": "error",
     "traceback": [
      "\u001b[0;31m---------------------------------------------------------------------------\u001b[0m",
      "\u001b[0;31mTypeError\u001b[0m                                 Traceback (most recent call last)",
      "\u001b[0;32m<ipython-input-44-a2ae67369feb>\u001b[0m in \u001b[0;36m<module>\u001b[0;34m\u001b[0m\n\u001b[1;32m     21\u001b[0m     \u001b[0;32mif\u001b[0m \u001b[0;32mnot\u001b[0m \u001b[0mbarcode\u001b[0m\u001b[0;34m:\u001b[0m\u001b[0;34m\u001b[0m\u001b[0;34m\u001b[0m\u001b[0m\n\u001b[1;32m     22\u001b[0m         \u001b[0mn_invalid\u001b[0m \u001b[0;34m+=\u001b[0m \u001b[0;36m1\u001b[0m\u001b[0;34m\u001b[0m\u001b[0;34m\u001b[0m\u001b[0m\n\u001b[0;32m---> 23\u001b[0;31m     \u001b[0;32melif\u001b[0m \u001b[0mbarcode\u001b[0m \u001b[0;32mnot\u001b[0m \u001b[0;32min\u001b[0m \u001b[0mHA_counts\u001b[0m\u001b[0;34m:\u001b[0m\u001b[0;34m\u001b[0m\u001b[0;34m\u001b[0m\u001b[0m\n\u001b[0m\u001b[1;32m     24\u001b[0m         \u001b[0mHA_counts\u001b[0m\u001b[0;34m[\u001b[0m\u001b[0mbarcode\u001b[0m\u001b[0;34m]\u001b[0m \u001b[0;34m=\u001b[0m \u001b[0;36m1\u001b[0m\u001b[0;34m\u001b[0m\u001b[0;34m\u001b[0m\u001b[0m\n\u001b[1;32m     25\u001b[0m     \u001b[0;32melse\u001b[0m\u001b[0;34m:\u001b[0m\u001b[0;34m\u001b[0m\u001b[0;34m\u001b[0m\u001b[0m\n",
      "\u001b[0;31mTypeError\u001b[0m: argument of type 'int' is not iterable"
     ]
    }
   ],
   "source": [
    "HA = {} #creates empty dictionary that holds HA barcodes and values of each barcode\n",
    "NA = {} # creates empty dictionary that holds NA barcodes and values of each barcode\n",
    "\n",
    "HA_counts = 0 #starts an HA barcode counter\n",
    "NA_counts = 0 #starts an NA barcode counter\n",
    "n_invalid = 0 #starts an invalid counter\n",
    "\n",
    "def read_barcode(seqread, bclen, upstream='AGGCGGCCGC', HA='CCGGATTTGCATATAATGATGCACCAT'): #defines the read_barcode function\n",
    "    barcode_matcher = re.compile(f'^(?P<barcode>[ACGT]{{{bclen}}})' + reverse_complement(upstream) + reverse_complement(HA))\n",
    "    #compiles a pattern that looks for the barcode, the given length (16), the reverse complement of upstream, and the reverse complement of HA gene\n",
    "    m = barcode_matcher.search(seqread) #searches for specific pattern (barcode_matcher) in seqread\n",
    "    if not m:\n",
    "        return None\n",
    "    else:\n",
    "        return reverse_complement(seqread[: bclen])\n",
    "\n",
    "seqreads = list(Bio.SeqIO.parse('barcodes_R1.fastq', 'fastq'))\n",
    "seqreads_str = [str(seqrecord.seq) for seqrecord in seqreads]\n",
    "\n",
    "for seq in seqreads_str:\n",
    "    barcode = read_barcode(seq, bclen=16)\n",
    "    if not barcode:\n",
    "        n_invalid += 1\n",
    "    elif barcode not in HA_counts:\n",
    "        HA_counts[barcode] = 1\n",
    "    else:\n",
    "        HA_counts[barcode] += 1"
   ]
  }
 ],
 "metadata": {
  "interpreter": {
   "hash": "40d3a090f54c6569ab1632332b64b2c03c39dcf918b08424e98f38b5ae0af88f"
  },
  "kernelspec": {
   "display_name": "Python 3.8.8 64-bit ('base': conda)",
   "name": "python3"
  },
  "language_info": {
   "codemirror_mode": {
    "name": "ipython",
    "version": 3
   },
   "file_extension": ".py",
   "mimetype": "text/x-python",
   "name": "python",
   "nbconvert_exporter": "python",
   "pygments_lexer": "ipython3",
   "version": "3.8.8"
  },
  "toc": {
   "nav_menu": {},
   "number_sections": false,
   "sideBar": true,
   "skip_h1_title": false,
   "toc_cell": false,
   "toc_position": {
    "height": "623.8px",
    "left": "0px",
    "right": "829.6px",
    "top": "33.2px",
    "width": "322.4px"
   },
   "toc_section_display": "block",
   "toc_window_display": true
  }
 },
 "nbformat": 4,
 "nbformat_minor": 2
}
